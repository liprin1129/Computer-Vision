{
 "cells": [
  {
   "cell_type": "markdown",
   "metadata": {
    "deletable": true,
    "editable": true
   },
   "source": [
    "# 1. Fourier Transform and Convolution\n",
    "\n",
    "Let $g=f*h$\n",
    "\n",
    "Then,\n",
    "<img src=\"images/8/Convolution1.png\" width=\"500px\">\n",
    "\n",
    "When we don convolution in the spatial domain, we're essentially doing multiplication in the frequency domain. \n",
    "\n",
    "So, __convolution in spatial domain $\\Longleftrightarrow$ Multiplication in frequency domain,__ and vice versa.\n",
    "\n",
    "<img src=\"images/8/Convolution2.png\" width=\"500px\">\n",
    "\n",
    "## (1) FFT\n",
    "\n",
    "If I wanted to do a convolution of a function with some really big mask, which is generally expensive operation, actually I could do it with a slightly different way. \n",
    "\n",
    "Suppose we want $g$ to be convolved with $h$, let's suppose $f$ and $h$ are both very large things, so we remember convolution is ugly. What we can do is we could actually take the Fourier transform of $f$ and a Fourier transform of $H$. And there are fast ways of doing Fourier transform called the FFT for fast Fourier transform. \n",
    "\n",
    "We can do those Fourier transforms quickly then we can multiply, those two Fourier transforms together to get the new Fourier transform, and then we can do the inverse Fourier transform to get back the answer. \n",
    "<img src=\"images/8/Convolution3.png\" width=\"500px\">\n",
    "\n",
    "## (2) Smoothing and Blurring\n",
    "\n",
    "The Fourier transform of a Gaussian is a Gauusian. And when we blur this noisy signal of function with the Gaussian, we're going to multiply its Fourier transform by the Fourier transform of that Gaussian. It's going to keep the low values and it's going to lower down the higher frequencies, depending on the range of $\\sigma$.\n",
    "<img src=\"images/8/Convolution4.png\" width=\"500px\">\n",
    "\n",
    "- With skinny Gaussian, almost an impulse, when we convolve a function with impulse, we get back the original function. So that means we basically keep all the frequencies. \n",
    "- Likewise, with really fat kernel, which blurs the heck out of everything, then we would expect to get hardly any high frequency and only to get a very the low frequencies.\n",
    "\n",
    "The Fourier transform of a fat Gaussian is a skinny one, and the Fourier transform of a skinny Gaussian is a fat one. In other words, __small Gaussian in space has a big Gaussian in frequency.__\n",
    "\n",
    "So, what's going to happen when we blur this function with the Gaussian is we're going to __multiply its Fourier transform by the Fourier transform of that Gaussian.__\n",
    "<img src=\"images/8/Convolution7.png\" width=\"500px\">\n",
    "\n",
    "For example is,\n",
    "<img src=\"images/8/Convolution5.png\" width=\"500px\">\n",
    "\n",
    "and another example for low and high pass filtering is,\n",
    "<img src=\"images/8/Convolution6.png\" width=\"500px\">\n",
    "\n",
    "# 2. Properties of Fourier Transform\n",
    "\n",
    "<img src=\"images/8/Convolution8.png\" width=\"500px\">"
   ]
  }
 ],
 "metadata": {
  "anaconda-cloud": {},
  "kernelspec": {
   "display_name": "Python [default]",
   "language": "python",
   "name": "python3"
  },
  "language_info": {
   "codemirror_mode": {
    "name": "ipython",
    "version": 3
   },
   "file_extension": ".py",
   "mimetype": "text/x-python",
   "name": "python",
   "nbconvert_exporter": "python",
   "pygments_lexer": "ipython3",
   "version": "3.5.2"
  }
 },
 "nbformat": 4,
 "nbformat_minor": 1
}
