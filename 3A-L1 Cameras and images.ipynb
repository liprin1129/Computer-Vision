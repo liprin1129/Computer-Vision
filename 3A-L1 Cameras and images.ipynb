{
 "cells": [
  {
   "cell_type": "markdown",
   "metadata": {},
   "source": [
    "1. [Lenses](#Lenses)\n",
    "\n",
    "Camera or an imaging system is that it's some device that allows the projection of light from three dimensions (three dimensional points) to some medium that will record the light pattern. That medium can be film or it can be a sensor, etc.\n",
    "\n",
    "When we do __projection__ somehow we're losing information (losing three dimensions) because a third dimension goes from three to two. So, we have to figure out what went on in that third dimension\n",
    "\n",
    "# 1. Lenses <a name='Lenses'></a>\n",
    "\n",
    "We don't actually use pinhole cameras. Instead, we use lenses. Lenses have the notion of focus. In general, lenses are designed so that all the points at a particular distance away will all be focused to the same point on the film or on the recording medium.\n",
    "\n",
    "<img src='images/3A-L1/Lens1.png' width=500>\n",
    "\n",
    "One of the challenges there is that another point that's at a different distance away, so here the blue point on the tree, they're not all going to be focused at that point. They're going to be sort of spread out a little bit. In fact, that spread is referred to sometimes as the circle of confusion.\n",
    "\n",
    "If it's a single point there's a circle that it cuts out. So, the way to change where things focus and how much is in focus have to do with changing the shape of the lens.\n",
    "\n",
    "Features of lenses is that \n",
    "- lenses have an optical axis along which light passes straight through unbent. \n",
    "- light that comes in parallel are all bent to the same point. That's referred to as the focal point. \n",
    "- in order to reduce the amount of spread of things, lenses also have an aperture. But now the aperture, instead of being just a single point, is restricting the set of rays that are coming in.\n",
    "\n",
    "Almost all lenses were cut out of parts of spheres, because if we understood the mechanics of that and were easy to make, and to be able to do the math. But these days there are many of what are called aspherical elements because it's all computer modeling."
   ]
  },
  {
   "cell_type": "markdown",
   "metadata": {},
   "source": [
    "### 1.1. Thin Lens <a name='Thin Lens'></a>\n",
    "\n",
    "In computational photography, it's common to make what's known as a thin lens assumption. \n",
    "\n",
    "<img src='images/3A-L1/Lens3.png' width=400>\n",
    "\n",
    "For given lens with a given focal point, it's going to image some object at some distance, $d_0$,$d_i$, for image back. \n",
    "\n",
    "The idea is that all parallel rays are going to intersect f. So when we have all sorts of parallel lines and that are going through the same, it's easy to reason about what's going on here using similar triangles. \n",
    "\n",
    "<img src='images/3A-L1/Lens4.png' width=400>\n",
    "<img src='images/3A-L1/Lens5.png' width=400>"
   ]
  },
  {
   "cell_type": "markdown",
   "metadata": {},
   "source": [
    "### 1.2. Depth of Field <a name='Depth of Field'></a>\n",
    "\n",
    "And depth of field is that how much does depth (that's exactly in focus) change as we get. \n",
    "\n",
    "If we move a little bit of the point that's precisely in focus, how much does the focus change, and what that's controlled by actually is the aperture.\n",
    "\n",
    "<img src='images/3A-L1/Depth of Field.png' width=500>\n",
    "\n",
    "On a wide aperture, rays diverge quite a bit, if a film plane instead of being closer to the lens, the rays from the close point would have been spread out a lot, so it would have been out of focus a lot.\n",
    "\n",
    "On smaller aperture, if focus actually were off by a little bit, there is that the film plane has moved a little bit, and the spread is much less, and that's why the depth of field is much better. "
   ]
  },
  {
   "cell_type": "markdown",
   "metadata": {},
   "source": [
    "### 1.3. Field of View\n",
    "\n",
    "<img src='images/3A-L1/Field Of View1.png' width=500>\n",
    "<img src='images/3A-L1/Field Of View2.png' width=500>\n",
    "\n",
    "Field of view, sometimes called zoom, is the idea of how wide of a view do we have. \n",
    "\n",
    "The field of view is a function of the focal length (the focal length of the lens is the distance between the lens and the image sensor when the subject is in focus). There are lenses that can change their field of view while staying in constant focus are called zoom lenses. There are some lenses that we can change their focal length but we have to refocus. Those are actually called variable focal length lenses.\n",
    "\n",
    "Let's assume for a moment thatI hands shake just a little and I cause a small amount of angular deflection. If my image is looking at something wide, then a small amount of angular deflection doesn't move my pixels very much. But suppose my angle of view is, a degree or just a couple degrees, then a small amount of angular shift of my hands is going to move the pixels a lot. That's why the longer the focal length, the more we have to stabilize your image.\n",
    "\n",
    "<img src='images/3A-L1/Field Of View2.png' width=500>\n",
    "\n",
    "The field of view actually depends upon two things; focal length and whole size. Basically, the longer the focal length, the smaller the field of view. The bigger the, the imaging surface, the bigger the, the field of view. "
   ]
  },
  {
   "cell_type": "markdown",
   "metadata": {},
   "source": [
    "### 1.4. Zooming And Moving Are Not The Same <a name='Zooming And Moving Are Not The Same'></a>\n",
    "\n",
    "<img src='images/3A-L1/Zooming And Moving Are Not The Same.png' width=500>\n",
    "\n",
    "Zooming and moving are not the same thing.\n",
    "\n",
    "The left was taken with a very large field of view, so that's a very small focal length. That means the photographer had to get close to the car. The image on the right was taken with a small field of view, a larger focal length, so the photographer had to back away from the car. Therefore, even though that the object is the same size in the image, the shape seems quite different.\n",
    "\n",
    "\n",
    "The one on the left seems to have a lot of what's called perspective distortion, and it's not really distortion at all. It's just the effect of perspective.\n",
    "\n",
    "This is why photographers use particular lenses for portrait work. "
   ]
  },
  {
   "cell_type": "markdown",
   "metadata": {},
   "source": [
    "### 1.5. Lenses Are Not Perfect <a name='Lenses Are Not Perfect'></a>\n",
    "\n",
    "Here are some examples of problems of lenses.\n",
    "\n",
    "<img src='images/3A-L1/Lenses Are Not Perfect1.png' width=500>\n",
    "<img src='images/3A-L1/Lenses Are Not Perfect2.png' width=500>\n",
    "<img src='images/3A-L1/Lenses Are Not Perfect3.png' width=500>\n",
    "<img src='images/3A-L1/Lenses Are Not Perfect4.png' width=500>\n",
    "\n",
    "Actually, after we use two lenses which have different radius will make a interesting pictures.\n",
    "\n",
    "<img src='images/3A-L1/Lenses Are Not Perfect5.png' width=500>\n",
    "\n",
    "So, photographers use different lenses.\n",
    "<img src='images/3A-L1/Lenses Are Not Perfect6.png' width=500>"
   ]
  },
  {
   "cell_type": "markdown",
   "metadata": {},
   "source": [
    "# 2. Perspective Imaging <a name='Perspective Imaging'></a>\n",
    "\n",
    "### 2.1. Coordinate System"
   ]
  }
 ],
 "metadata": {
  "kernelspec": {
   "display_name": "Python [conda root]",
   "language": "python",
   "name": "conda-root-py"
  },
  "language_info": {
   "codemirror_mode": {
    "name": "ipython",
    "version": 3
   },
   "file_extension": ".py",
   "mimetype": "text/x-python",
   "name": "python",
   "nbconvert_exporter": "python",
   "pygments_lexer": "ipython3",
   "version": "3.5.2"
  }
 },
 "nbformat": 4,
 "nbformat_minor": 2
}
