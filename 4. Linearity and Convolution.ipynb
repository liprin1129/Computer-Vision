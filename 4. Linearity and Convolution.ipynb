{
 "cells": [
  {
   "cell_type": "markdown",
   "metadata": {},
   "source": [
    "## 1. Linear intuition...\n",
    "\n",
    "An operator $H$ (or system) is *linear* if two properties hold ($f1$ and $f2$ are some functions, $a$ is constant):\n",
    "    \n",
    "- **Additivity** (things sum):\n",
    "    - $H(f1+f2)=H(f1)+H(f2)$ : looks like distributive law\n",
    "- **Multiplicative scaling** (Homogeneity of degree 1):\n",
    "    - $H(a\\cdot f1)=a \\cdot H(f1)$\n",
    "    \n",
    "Because it is sums and multiples, the *filtering* operation we were doing are linear.\n",
    "\n",
    "What linearity is going to allow us to do is...\n",
    "- to build up a signal or a function (image), a piece at a time\n",
    "- then be able to say how a linear operator affects that whole image."
   ]
  },
  {
   "cell_type": "markdown",
   "metadata": {},
   "source": [
    "## 2. Impulse Function And Response\n",
    "\n",
    "### 1) An impluse function\n",
    "\n",
    "- In the discrete world, an *impulse* is just a value of 1 at a single location.\n",
    "<img src=\"images/4/impulse_discrete.png\" width=\"300px\" height=\"300px\">\n",
    "\n",
    "- In the continuous world, an *impulse* is an idealized function that is very narrow and very tall so that it has a unit area. In the limit:\n",
    "<img src=\"images/4/impulse_continuous.png\" width=\"300px\" height=\"300px\">\n",
    "\n",
    "### 2) An impulse response\n",
    "\n",
    "If I have an unknown system and I 'put in' an impulse, the reponse is called the impulse reponse.\n",
    "<img src=\"images/4/impulse_response.png\" width=\"300px\" height=\"300px\">\n",
    "\n",
    "So if the black box is linear, you can describe $H$ by $h(x)$. In other world, if I know what the impulse reponse of some black box $H$ is (maybe we'll call that $h(x)$), I can describe what this operators going to do by $h(x)$.\n",
    "\n",
    "Because any sequence of pulses (we're going to do this in $2D$ in a minute) can be described by just adding in a shifted set and scaled set of those single impulses. \n",
    "If I know how this black box effects just the single impulse, I'll be able to say how it affects the entire image."
   ]
  },
  {
   "cell_type": "markdown",
   "metadata": {},
   "source": [
    "## 3. Filtering An Impulse Signal\n",
    "\n",
    "What is the result of filtering the impulse signal (image) $F$ with the arbitrary kernel $H$?\n",
    "<img src=\"images/4/filtering1.png\" width=\"400px\" height=\"300px\">\n",
    "<img src=\"images/4/filtering2.png\" width=\"400px\" height=\"300px\">\n",
    "<img src=\"images/4/filtering3.png\" width=\"400px\" height=\"300px\">\n",
    "<img src=\"images/4/filtering4.png\" width=\"400px\" height=\"300px\">\n",
    "<img src=\"images/4/filtering5.png\" width=\"400px\" height=\"300px\">\n",
    "<img src=\"images/4/filtering6.png\" width=\"400px\" height=\"300px\">"
   ]
  },
  {
   "cell_type": "markdown",
   "metadata": {},
   "source": [
    "## 4. Correlation Vs Convolution\n",
    "\n",
    "#### Cross-correlation :\n",
    "$$\n",
    "\\begin{align}\n",
    "G=& H \\otimes F \\\\\n",
    "G[i, j]=&\\sum^k_{u=-k}\\sum^k_{v=-k}H[u, v]F[i+u, j+v]\n",
    "\\end{align}\n",
    "$$\n",
    "- Centered at zero\n",
    "- It ends up with that filpped result.\n",
    "- kernel $H$\n",
    "#### Convolution : \n",
    "- Centered at zero\n",
    "- Flip in both dimensions (bottom to top, right to left)\n",
    "    - either flipped the kernel or filpped the axis to the pixels (it doesn't matter and gets the same value)\n",
    "- kernel $H$\n",
    "    - For a circularly symmetric or for a symmetric filter (kernel, or mask), whether I do convolution or correlation doesn't matter (there's no change).\n",
    "$$\n",
    "\\begin{align}\n",
    "G=& H \\star F \\\\\n",
    "G[i, j]=&\\sum^k_{u=-k}\\sum^k_{v=-k}H[u, v]F[i-u, j-v]\n",
    "\\end{align}\n",
    "$$"
   ]
  },
  {
   "cell_type": "markdown",
   "metadata": {},
   "source": [
    "## 5. Properties Of Convolution\n",
    "\n",
    "- Linear and shift invariant\n",
    "- Commutative:\n",
    "    - $f*g = g*f$\n",
    "- Associative\n",
    "    - $(f*g)*h=f*(g*h)$\n",
    "- Identity:\n",
    "    - unit impulse $e = [\\dots, 0, 0, 1, 0, 0, \\dots]$. \n",
    "    - then $f*e=f$\n",
    "- Differentiation:\n",
    "    - $\\frac{\\partial}{\\partial x} (f*g)=\\frac{\\partial f}{\\partial x} *g$"
   ]
  },
  {
   "cell_type": "markdown",
   "metadata": {},
   "source": [
    "## 6. Computational Complexity And Separability\n",
    "\n",
    "If an image is $N \\times N$ and a kernel (filter) is $W \\times W$, how many multiplies do we need to compute a convolution?\n",
    "\n",
    "<img src=\"images/4/complexity.png\" width=\"400px\" height=\"300px\">\n",
    "\n",
    "We need $N*N*W*W=N^2W^2$ which can get big.\n",
    "\n",
    "#### Separability\n",
    "\n",
    "In some cases, filter is separable, meaning you can get the square kernel $H$ by convolving a single column vector by some row vector:\n",
    "<img src=\"images/4/separability.png\" width=\"400px\" height=\"300px\">\n",
    "\n",
    "Then, \n",
    "$$G=H*F=(C*R)*F=C*(R*F)$$\n",
    "\n",
    "- So we do two convolutions but each is $W*N*N$. So this is useful if $W$ is big enough such that $2 \\cdot W \\cdot N \\cdot N << W^2 \\cdot N^2$.\n",
    "- Used to be very important. Still, if $W=31$, save a factor of 15."
   ]
  },
  {
   "cell_type": "markdown",
   "metadata": {},
   "source": [
    "## 7. Boundary Issues"
   ]
  }
 ],
 "metadata": {
  "kernelspec": {
   "display_name": "Python 3",
   "language": "python",
   "name": "python3"
  },
  "language_info": {
   "codemirror_mode": {
    "name": "ipython",
    "version": 3
   },
   "file_extension": ".py",
   "mimetype": "text/x-python",
   "name": "python",
   "nbconvert_exporter": "python",
   "pygments_lexer": "ipython3",
   "version": "3.5.1"
  }
 },
 "nbformat": 4,
 "nbformat_minor": 0
}
